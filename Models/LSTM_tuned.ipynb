{
 "cells": [
  {
   "cell_type": "code",
   "execution_count": 1,
   "metadata": {},
   "outputs": [],
   "source": [
    "import tensorflow as tf\n",
    "import pandas as pd\n",
    "import numpy as np\n",
    "import os\n",
    "from sklearn.preprocessing import MinMaxScaler\n",
    "from sklearn.model_selection import train_test_split\n",
    "from tensorflow.keras.models import Sequential\n",
    "from tensorflow.keras.layers import LSTM, Dense, Dropout, RepeatVector, TimeDistributed\n",
    "from tensorflow.keras.callbacks import EarlyStopping\n",
    "from tensorflow.keras.models import load_model\n",
    "from sklearn.model_selection import train_test_split\n",
    "from tensorflow import keras\n",
    "import keras_tuner as kt\n",
    "import matplotlib.pyplot as plt\n",
    "import seaborn as sns"
   ]
  },
  {
   "cell_type": "markdown",
   "metadata": {},
   "source": [
    "### 1. data preprorcessing: prepare data for training & test sets"
   ]
  },
  {
   "cell_type": "markdown",
   "metadata": {},
   "source": [
    "#### import dataset and data cleaning and selection \n",
    "\n",
    "The training dataset includes wind speeds of various altitude increments, in 10 minutes intervals, for a little more than 12 month. It includes horizontal wind speed, vertical wind speed, mean values, max and min values in the increments, standard deviations and other columns. \n",
    "\n",
    "There are certain unrealistic values for wind speeds suh as 9999 or 9998 or N/A, this is likely due to processing error in the technical instrumet.\n",
    "\n",
    "Thus, for data cleaning, we will filter out the values above 50 as it is nearly impossible for wind speed in the given altitudes to exceed 50. And for data selection, we shall only use the columns that record the horizontal wind speeds as the HAWTs (Horizontal-Axis Wind Turbines) use the lift force of the horizontal winds to generate energy, and disregard the other data for now.  "
   ]
  },
  {
   "cell_type": "code",
   "execution_count": 2,
   "metadata": {},
   "outputs": [
    {
     "name": "stderr",
     "output_type": "stream",
     "text": [
      "C:\\Users\\Jiarong Xie\\AppData\\Local\\Temp\\ipykernel_33424\\1948449413.py:3: DtypeWarning: Columns (2,3,4,5,6,7,8,9,10,12,13,14,15,16,17,18,19,20,22,23,24,25,26,27,28,29,30,32,33,34,35,36,37,38,39,40,42,43,44,45,46,47,48,49,50,52,53,54,55,56,57,58,59,60,62,63,64,65,66,67,68,69,70,72,73,74,75,76,77,78,79,80,82,83,84,85,86,87,88,89,90,92,93,94,95,96,97,98,99,100,101,102,103,104,105,106,107,108,109,110,111,112,113,114,115,116,117,118) have mixed types. Specify dtype option on import or set low_memory=False.\n",
      "  data = pd.read_csv(file_path)\n"
     ]
    },
    {
     "data": {
      "text/html": [
       "<div>\n",
       "<style scoped>\n",
       "    .dataframe tbody tr th:only-of-type {\n",
       "        vertical-align: middle;\n",
       "    }\n",
       "\n",
       "    .dataframe tbody tr th {\n",
       "        vertical-align: top;\n",
       "    }\n",
       "\n",
       "    .dataframe thead th {\n",
       "        text-align: right;\n",
       "    }\n",
       "</style>\n",
       "<table border=\"1\" class=\"dataframe\">\n",
       "  <thead>\n",
       "    <tr style=\"text-align: right;\">\n",
       "      <th></th>\n",
       "      <th>timestamp</th>\n",
       "      <th>lidar_lidar18m_Z10_HorizWS</th>\n",
       "      <th>lidar_lidar18m_Z10_StdDevWS</th>\n",
       "      <th>lidar_lidar18m_Z10_MaxWS</th>\n",
       "      <th>lidar_lidar18m_Z10_MinWs</th>\n",
       "      <th>lidar_lidar18m_WD_alg_03</th>\n",
       "      <th>lidar_lidar18m_Z10_VertWs</th>\n",
       "      <th>lidar_lidar18m_Z10_InfoFlag</th>\n",
       "      <th>lidar_lidar18m_Z10_StatFlag</th>\n",
       "      <th>lidar_lidar18m_Z10_Packets</th>\n",
       "      <th>...</th>\n",
       "      <th>AHRS_AHRSroll_Max</th>\n",
       "      <th>AHRS_AHRSroll_Min</th>\n",
       "      <th>AHRS_AHRSpitch_Max</th>\n",
       "      <th>AHRS_AHRSpitch_Min</th>\n",
       "      <th>AHRS_AHRSyaw_Max</th>\n",
       "      <th>AHRS_AHRSyaw_Min</th>\n",
       "      <th>buoy_status_CR6S_batt_Avg</th>\n",
       "      <th>buoy_status_GPSlat</th>\n",
       "      <th>buoy_status_GPSlong</th>\n",
       "      <th>FLS200_S/N</th>\n",
       "    </tr>\n",
       "  </thead>\n",
       "  <tbody>\n",
       "    <tr>\n",
       "      <th>0</th>\n",
       "      <td>2019-08-12 00:00:00</td>\n",
       "      <td>7.2923</td>\n",
       "      <td>0.5159</td>\n",
       "      <td>8.2792</td>\n",
       "      <td>6.0537</td>\n",
       "      <td>251.5426</td>\n",
       "      <td>0.1971</td>\n",
       "      <td>4.0</td>\n",
       "      <td>0.0</td>\n",
       "      <td>36.0</td>\n",
       "      <td>...</td>\n",
       "      <td>7.644</td>\n",
       "      <td>-6.274</td>\n",
       "      <td>6.088</td>\n",
       "      <td>-7.194</td>\n",
       "      <td>6.121</td>\n",
       "      <td>-6.098</td>\n",
       "      <td>13.03</td>\n",
       "      <td>39.9695</td>\n",
       "      <td>-72.716</td>\n",
       "      <td>E05</td>\n",
       "    </tr>\n",
       "    <tr>\n",
       "      <th>1</th>\n",
       "      <td>2019-08-12 00:10:00</td>\n",
       "      <td>7.8613</td>\n",
       "      <td>0.6321</td>\n",
       "      <td>9.1869</td>\n",
       "      <td>6.1966</td>\n",
       "      <td>245.2114</td>\n",
       "      <td>0.1425</td>\n",
       "      <td>4.0</td>\n",
       "      <td>0.0</td>\n",
       "      <td>37.0</td>\n",
       "      <td>...</td>\n",
       "      <td>7.205</td>\n",
       "      <td>-6.716</td>\n",
       "      <td>6.86</td>\n",
       "      <td>-8.25</td>\n",
       "      <td>6.024</td>\n",
       "      <td>-5.765</td>\n",
       "      <td>13.03</td>\n",
       "      <td>39.9694</td>\n",
       "      <td>-72.716</td>\n",
       "      <td>E05</td>\n",
       "    </tr>\n",
       "    <tr>\n",
       "      <th>2</th>\n",
       "      <td>2019-08-12 00:20:00</td>\n",
       "      <td>7.7594</td>\n",
       "      <td>0.635</td>\n",
       "      <td>9.0702</td>\n",
       "      <td>6.1366</td>\n",
       "      <td>246.7355</td>\n",
       "      <td>0.1568</td>\n",
       "      <td>4.0</td>\n",
       "      <td>0.0</td>\n",
       "      <td>37.0</td>\n",
       "      <td>...</td>\n",
       "      <td>6.416</td>\n",
       "      <td>-7.058</td>\n",
       "      <td>5.03</td>\n",
       "      <td>-7.563</td>\n",
       "      <td>5.344</td>\n",
       "      <td>-6.38</td>\n",
       "      <td>13.03</td>\n",
       "      <td>39.9695</td>\n",
       "      <td>-72.716</td>\n",
       "      <td>E05</td>\n",
       "    </tr>\n",
       "    <tr>\n",
       "      <th>3</th>\n",
       "      <td>2019-08-12 00:30:00</td>\n",
       "      <td>7.4891</td>\n",
       "      <td>0.4983</td>\n",
       "      <td>8.6377</td>\n",
       "      <td>6.5824</td>\n",
       "      <td>247.0218</td>\n",
       "      <td>0.0493</td>\n",
       "      <td>4.0</td>\n",
       "      <td>0.0</td>\n",
       "      <td>38.0</td>\n",
       "      <td>...</td>\n",
       "      <td>7.767</td>\n",
       "      <td>-7.505</td>\n",
       "      <td>5.555</td>\n",
       "      <td>-7.663</td>\n",
       "      <td>7.64</td>\n",
       "      <td>-8.3</td>\n",
       "      <td>13.03</td>\n",
       "      <td>39.9695</td>\n",
       "      <td>-72.716</td>\n",
       "      <td>E05</td>\n",
       "    </tr>\n",
       "    <tr>\n",
       "      <th>4</th>\n",
       "      <td>2019-08-12 00:40:00</td>\n",
       "      <td>7.8829</td>\n",
       "      <td>0.6361</td>\n",
       "      <td>9.4056</td>\n",
       "      <td>6.4107</td>\n",
       "      <td>244.106</td>\n",
       "      <td>0.0897</td>\n",
       "      <td>4.0</td>\n",
       "      <td>0.0</td>\n",
       "      <td>37.0</td>\n",
       "      <td>...</td>\n",
       "      <td>6.627</td>\n",
       "      <td>-6.468</td>\n",
       "      <td>7.694</td>\n",
       "      <td>-9.47</td>\n",
       "      <td>6.511</td>\n",
       "      <td>-7.137</td>\n",
       "      <td>13.02</td>\n",
       "      <td>39.9695</td>\n",
       "      <td>-72.716</td>\n",
       "      <td>E05</td>\n",
       "    </tr>\n",
       "  </tbody>\n",
       "</table>\n",
       "<p>5 rows × 120 columns</p>\n",
       "</div>"
      ],
      "text/plain": [
       "            timestamp  lidar_lidar18m_Z10_HorizWS  \\\n",
       "0 2019-08-12 00:00:00                      7.2923   \n",
       "1 2019-08-12 00:10:00                      7.8613   \n",
       "2 2019-08-12 00:20:00                      7.7594   \n",
       "3 2019-08-12 00:30:00                      7.4891   \n",
       "4 2019-08-12 00:40:00                      7.8829   \n",
       "\n",
       "   lidar_lidar18m_Z10_StdDevWS  lidar_lidar18m_Z10_MaxWS  \\\n",
       "0                       0.5159                    8.2792   \n",
       "1                       0.6321                    9.1869   \n",
       "2                        0.635                    9.0702   \n",
       "3                       0.4983                    8.6377   \n",
       "4                       0.6361                    9.4056   \n",
       "\n",
       "   lidar_lidar18m_Z10_MinWs  lidar_lidar18m_WD_alg_03  \\\n",
       "0                    6.0537                  251.5426   \n",
       "1                    6.1966                  245.2114   \n",
       "2                    6.1366                  246.7355   \n",
       "3                    6.5824                  247.0218   \n",
       "4                    6.4107                   244.106   \n",
       "\n",
       "   lidar_lidar18m_Z10_VertWs  lidar_lidar18m_Z10_InfoFlag  \\\n",
       "0                     0.1971                          4.0   \n",
       "1                     0.1425                          4.0   \n",
       "2                     0.1568                          4.0   \n",
       "3                     0.0493                          4.0   \n",
       "4                     0.0897                          4.0   \n",
       "\n",
       "   lidar_lidar18m_Z10_StatFlag  lidar_lidar18m_Z10_Packets  ...  \\\n",
       "0                          0.0                        36.0  ...   \n",
       "1                          0.0                        37.0  ...   \n",
       "2                          0.0                        37.0  ...   \n",
       "3                          0.0                        38.0  ...   \n",
       "4                          0.0                        37.0  ...   \n",
       "\n",
       "   AHRS_AHRSroll_Max  AHRS_AHRSroll_Min  AHRS_AHRSpitch_Max  \\\n",
       "0              7.644             -6.274               6.088   \n",
       "1              7.205             -6.716                6.86   \n",
       "2              6.416             -7.058                5.03   \n",
       "3              7.767             -7.505               5.555   \n",
       "4              6.627             -6.468               7.694   \n",
       "\n",
       "   AHRS_AHRSpitch_Min  AHRS_AHRSyaw_Max  AHRS_AHRSyaw_Min  \\\n",
       "0              -7.194             6.121            -6.098   \n",
       "1               -8.25             6.024            -5.765   \n",
       "2              -7.563             5.344             -6.38   \n",
       "3              -7.663              7.64              -8.3   \n",
       "4               -9.47             6.511            -7.137   \n",
       "\n",
       "   buoy_status_CR6S_batt_Avg  buoy_status_GPSlat  buoy_status_GPSlong  \\\n",
       "0                      13.03             39.9695              -72.716   \n",
       "1                      13.03             39.9694              -72.716   \n",
       "2                      13.03             39.9695              -72.716   \n",
       "3                      13.03             39.9695              -72.716   \n",
       "4                      13.02             39.9695              -72.716   \n",
       "\n",
       "   FLS200_S/N  \n",
       "0         E05  \n",
       "1         E05  \n",
       "2         E05  \n",
       "3         E05  \n",
       "4         E05  \n",
       "\n",
       "[5 rows x 120 columns]"
      ]
     },
     "execution_count": 2,
     "metadata": {},
     "output_type": "execute_result"
    }
   ],
   "source": [
    "file_path = \"../Data/E05_Hudson_North_10_min_avg_20190812_20210919.csv\"\n",
    "\n",
    "data = pd.read_csv(file_path)\n",
    "\n",
    "data['timestamp'] = pd.to_datetime(data['timestamp'], errors='coerce')\n",
    "\n",
    "sorted_data = data[data['timestamp'] <= pd.Timestamp('2021-08-12')]\n",
    "\n",
    "sorted_data.head()"
   ]
  },
  {
   "cell_type": "code",
   "execution_count": 3,
   "metadata": {},
   "outputs": [
    {
     "data": {
      "text/html": [
       "<div>\n",
       "<style scoped>\n",
       "    .dataframe tbody tr th:only-of-type {\n",
       "        vertical-align: middle;\n",
       "    }\n",
       "\n",
       "    .dataframe tbody tr th {\n",
       "        vertical-align: top;\n",
       "    }\n",
       "\n",
       "    .dataframe thead th {\n",
       "        text-align: right;\n",
       "    }\n",
       "</style>\n",
       "<table border=\"1\" class=\"dataframe\">\n",
       "  <thead>\n",
       "    <tr style=\"text-align: right;\">\n",
       "      <th></th>\n",
       "      <th>lidar_lidar138m_Z10_HorizWS</th>\n",
       "    </tr>\n",
       "  </thead>\n",
       "  <tbody>\n",
       "    <tr>\n",
       "      <th>0</th>\n",
       "      <td>7.8635</td>\n",
       "    </tr>\n",
       "    <tr>\n",
       "      <th>1</th>\n",
       "      <td>8.1698</td>\n",
       "    </tr>\n",
       "    <tr>\n",
       "      <th>2</th>\n",
       "      <td>8.1291</td>\n",
       "    </tr>\n",
       "    <tr>\n",
       "      <th>3</th>\n",
       "      <td>7.9652</td>\n",
       "    </tr>\n",
       "    <tr>\n",
       "      <th>4</th>\n",
       "      <td>8.0443</td>\n",
       "    </tr>\n",
       "  </tbody>\n",
       "</table>\n",
       "</div>"
      ],
      "text/plain": [
       "    lidar_lidar138m_Z10_HorizWS\n",
       "0                        7.8635\n",
       "1                        8.1698\n",
       "2                        8.1291\n",
       "3                        7.9652\n",
       "4                        8.0443"
      ]
     },
     "execution_count": 3,
     "metadata": {},
     "output_type": "execute_result"
    }
   ],
   "source": [
    "# Filtering columns with 'HorizWS' in their names\n",
    "horiz_ws_columns = [col for col in data.columns if 'lidar_lidar138m_Z10_HorizWS' in col]\n",
    "horiz_ws_data = data[horiz_ws_columns]\n",
    "\n",
    "# Converting wind speed columns to numeric, setting errors='coerce' to turn non-numeric values into NaN\n",
    "numeric_horiz_ws_data = horiz_ws_data.apply(pd.to_numeric, errors='coerce')\n",
    "\n",
    "# Filtering out all values above 50\n",
    "cleaned_numeric_horiz_ws_data = numeric_horiz_ws_data[numeric_horiz_ws_data <= 50].dropna()\n",
    "\n",
    "# Displaying the first few rows of the cleaned numeric data\n",
    "cleaned_numeric_horiz_ws_data.head()"
   ]
  },
  {
   "cell_type": "code",
   "execution_count": 4,
   "metadata": {},
   "outputs": [
    {
     "data": {
      "text/plain": [
       "100711"
      ]
     },
     "execution_count": 4,
     "metadata": {},
     "output_type": "execute_result"
    }
   ],
   "source": [
    "len(cleaned_numeric_horiz_ws_data)"
   ]
  },
  {
   "cell_type": "code",
   "execution_count": 5,
   "metadata": {},
   "outputs": [],
   "source": [
    "points_in_two_years = 6 * 24 * 365 * 2\n",
    "\n",
    "# Generate new index for interpolation\n",
    "new_index = np.linspace(0, len(cleaned_numeric_horiz_ws_data) - 1, points_in_two_years)\n",
    "\n",
    "# Interpolating the DataFrame\n",
    "interpolated_data = np.interp(new_index, np.arange(len(cleaned_numeric_horiz_ws_data)), \n",
    "                              cleaned_numeric_horiz_ws_data.iloc[:, 0])\n",
    "\n",
    "# Converting the interpolated array back to a DataFrame\n",
    "cleaned_numeric_horiz_ws_data = pd.DataFrame(interpolated_data, columns=cleaned_numeric_horiz_ws_data.columns)"
   ]
  },
  {
   "cell_type": "code",
   "execution_count": 6,
   "metadata": {},
   "outputs": [
    {
     "data": {
      "text/plain": [
       "105120"
      ]
     },
     "execution_count": 6,
     "metadata": {},
     "output_type": "execute_result"
    }
   ],
   "source": [
    "len(cleaned_numeric_horiz_ws_data)"
   ]
  },
  {
   "cell_type": "markdown",
   "metadata": {},
   "source": [
    "#### Data normalization\n",
    "\n",
    "The data is normalized with MinMax (imported from the scikit-learn library) for MinMax scaling's ability to transform data into a bounded range while preserving temporal relationships. It is suitable for TimeGAN models like this one, which are designed to generate realistic time-series data."
   ]
  },
  {
   "cell_type": "code",
   "execution_count": 7,
   "metadata": {},
   "outputs": [
    {
     "data": {
      "text/html": [
       "<div>\n",
       "<style scoped>\n",
       "    .dataframe tbody tr th:only-of-type {\n",
       "        vertical-align: middle;\n",
       "    }\n",
       "\n",
       "    .dataframe tbody tr th {\n",
       "        vertical-align: top;\n",
       "    }\n",
       "\n",
       "    .dataframe thead th {\n",
       "        text-align: right;\n",
       "    }\n",
       "</style>\n",
       "<table border=\"1\" class=\"dataframe\">\n",
       "  <thead>\n",
       "    <tr style=\"text-align: right;\">\n",
       "      <th></th>\n",
       "      <th>lidar_lidar138m_Z10_HorizWS</th>\n",
       "    </tr>\n",
       "  </thead>\n",
       "  <tbody>\n",
       "    <tr>\n",
       "      <th>0</th>\n",
       "      <td>0.246939</td>\n",
       "    </tr>\n",
       "    <tr>\n",
       "      <th>1</th>\n",
       "      <td>0.256687</td>\n",
       "    </tr>\n",
       "    <tr>\n",
       "      <th>2</th>\n",
       "      <td>0.255875</td>\n",
       "    </tr>\n",
       "    <tr>\n",
       "      <th>3</th>\n",
       "      <td>0.251002</td>\n",
       "    </tr>\n",
       "    <tr>\n",
       "      <th>4</th>\n",
       "      <td>0.252504</td>\n",
       "    </tr>\n",
       "  </tbody>\n",
       "</table>\n",
       "</div>"
      ],
      "text/plain": [
       "    lidar_lidar138m_Z10_HorizWS\n",
       "0                      0.246939\n",
       "1                      0.256687\n",
       "2                      0.255875\n",
       "3                      0.251002\n",
       "4                      0.252504"
      ]
     },
     "execution_count": 7,
     "metadata": {},
     "output_type": "execute_result"
    }
   ],
   "source": [
    "# Initializing the MinMaxScaler to scale the data between 0 and 1\n",
    "scaler = MinMaxScaler(feature_range=(0, 1))\n",
    "\n",
    "# Fitting the scaler to the cleaned data and transforming it\n",
    "normalized_data = scaler.fit_transform(cleaned_numeric_horiz_ws_data)\n",
    "\n",
    "# Converting the normalized data back to a DataFrame for better readability\n",
    "normalized_df = pd.DataFrame(normalized_data, columns=cleaned_numeric_horiz_ws_data.columns)\n",
    "\n",
    "# Displaying the first few rows of the normalized data\n",
    "normalized_df.head()"
   ]
  },
  {
   "cell_type": "markdown",
   "metadata": {},
   "source": [
    "#### Reshaping the data\n",
    "\n",
    "LSTM model is chosen to focus on seasonal variations so the previos"
   ]
  },
  {
   "cell_type": "code",
   "execution_count": 8,
   "metadata": {},
   "outputs": [
    {
     "data": {
      "text/plain": [
       "4380"
      ]
     },
     "execution_count": 8,
     "metadata": {},
     "output_type": "execute_result"
    }
   ],
   "source": [
    "points_in_month = int(len(cleaned_numeric_horiz_ws_data) / (2 * 12))\n",
    "points_in_month"
   ]
  },
  {
   "cell_type": "code",
   "execution_count": 9,
   "metadata": {},
   "outputs": [],
   "source": [
    "ratio = [1, 11]\n",
    "forecast_ratio = int(ratio[1] / ratio[0])"
   ]
  },
  {
   "cell_type": "code",
   "execution_count": 10,
   "metadata": {},
   "outputs": [],
   "source": [
    "input_sequence_length = points_in_month * ratio[0]\n",
    "output_sequence_length = points_in_month * ratio[1]"
   ]
  },
  {
   "cell_type": "code",
   "execution_count": 11,
   "metadata": {},
   "outputs": [
    {
     "name": "stdout",
     "output_type": "stream",
     "text": [
      "X_train shape: (1, 4380, 1)\n",
      "Y_train shape: (1, 48180, 1)\n",
      "X_test shape: (1, 4380, 1)\n",
      "Y_test shape: (1, 48180, 1)\n"
     ]
    }
   ],
   "source": [
    "def create_sequences(data, history_length, forecast_ratio):\n",
    "    X, Y = [], []\n",
    "    forecast_length = history_length * forecast_ratio\n",
    "    total_sequence_length = history_length + forecast_length\n",
    "\n",
    "    # Check if the total sequence length is longer than the data length\n",
    "    if total_sequence_length > len(data):\n",
    "        print(\"Total sequence length is greater than the data length. Adjusting the lengths.\")\n",
    "        # Adjust the lengths to fit the data\n",
    "        forecast_length = len(data) - history_length\n",
    "        total_sequence_length = len(data)\n",
    "\n",
    "    for i in range(0, len(data) - total_sequence_length + 1, total_sequence_length):\n",
    "        X.append(data[i:(i + history_length)])\n",
    "        Y.append(data[(i + history_length):(i + total_sequence_length)])\n",
    "    return np.array(X), np.array(Y)\n",
    "\n",
    "# Assuming input_sequence_length is defined\n",
    "X, Y = create_sequences(normalized_df, input_sequence_length, forecast_ratio)\n",
    "\n",
    "# Splitting the data in half for training and testing\n",
    "train_size = len(X) // 2\n",
    "X_train, Y_train = X[:train_size], Y[:train_size]\n",
    "X_test, Y_test = X[train_size:], Y[train_size:]\n",
    "\n",
    "# Print shapes to verify\n",
    "print(\"X_train shape:\", X_train.shape)\n",
    "print(\"Y_train shape:\", Y_train.shape)\n",
    "print(\"X_test shape:\", X_test.shape)\n",
    "print(\"Y_test shape:\", Y_test.shape)"
   ]
  },
  {
   "cell_type": "markdown",
   "metadata": {},
   "source": [
    "#### Defining the LSTM model"
   ]
  },
  {
   "cell_type": "code",
   "execution_count": 12,
   "metadata": {},
   "outputs": [],
   "source": [
    "num_epochs = 50\n",
    "minibatch_size = 64\n",
    "n_trials = 10\n",
    "early_stop = EarlyStopping(monitor = 'val_loss', min_delta = 0.001, patience = 20, verbose = 1, restore_best_weights = True)"
   ]
  },
  {
   "cell_type": "code",
   "execution_count": 13,
   "metadata": {},
   "outputs": [],
   "source": [
    "def build_model(hp):\n",
    "\n",
    "    hp_activation = hp.Choice('activation', values=['relu', 'tanh', 'sigmoid'])\n",
    "    hp_learning_rate = hp.Float('learning_rate', min_value = 1e-4, max_value = 1e-2, sampling = 'LOG')\n",
    "    hp_loss = hp.Choice('loss', values=['mse','mae'])\n",
    "\n",
    "    model = keras.Sequential()\n",
    "    \n",
    "    model.add(LSTM(\n",
    "        hp.Int('neurons', min_value = 32, max_value = 512, step = 32),\n",
    "        input_shape = (X_train.shape[1], X_train.shape[2]),\n",
    "        return_sequences = True,\n",
    "        activation = hp_activation\n",
    "    ))\n",
    "\n",
    "    model.add(Dropout(rate = hp.Float('dropout_1', min_value=0.0, max_value=0.5, step=0.1)))\n",
    "\n",
    "    model.add(LSTM(\n",
    "        hp.Int('neurons', min_value = 32, max_value = 512, step = 32),\n",
    "        return_sequences = False,\n",
    "        activation = hp_activation\n",
    "    ))\n",
    "\n",
    "    model.add(Dropout(rate=hp.Float('dropout_2', min_value = 0.0, max_value = 0.5, step = 0.1)))\n",
    "\n",
    "    model.add(Dense(1, activation=hp.Choice('activation', values=['relu', 'tanh', 'sigmoid'])))\n",
    "\n",
    "    model.compile(loss = hp_loss, optimizer = keras.optimizers.Adam(learning_rate = hp_learning_rate))\n",
    "\n",
    "    return model"
   ]
  },
  {
   "cell_type": "code",
   "execution_count": 14,
   "metadata": {},
   "outputs": [
    {
     "name": "stdout",
     "output_type": "stream",
     "text": [
      "Search space summary\n",
      "Default search space size: 6\n",
      "activation (Choice)\n",
      "{'default': 'relu', 'conditions': [], 'values': ['relu', 'tanh', 'sigmoid'], 'ordered': False}\n",
      "learning_rate (Float)\n",
      "{'default': 0.0001, 'conditions': [], 'min_value': 0.0001, 'max_value': 0.01, 'step': None, 'sampling': 'log'}\n",
      "loss (Choice)\n",
      "{'default': 'mse', 'conditions': [], 'values': ['mse', 'mae'], 'ordered': False}\n",
      "neurons (Int)\n",
      "{'default': None, 'conditions': [], 'min_value': 32, 'max_value': 512, 'step': 32, 'sampling': 'linear'}\n",
      "dropout_1 (Float)\n",
      "{'default': 0.0, 'conditions': [], 'min_value': 0.0, 'max_value': 0.5, 'step': 0.1, 'sampling': 'linear'}\n",
      "dropout_2 (Float)\n",
      "{'default': 0.0, 'conditions': [], 'min_value': 0.0, 'max_value': 0.5, 'step': 0.1, 'sampling': 'linear'}\n"
     ]
    }
   ],
   "source": [
    "tuner = kt.RandomSearch(\n",
    "    build_model,\n",
    "    objective = 'val_loss',\n",
    "    max_trials = n_trials,  # Number of trials\n",
    "    executions_per_trial = 1,\n",
    "    directory = 'my_dir',\n",
    "    project_name = 'lstm_tuning_18m'\n",
    ")\n",
    "\n",
    "tuner.search_space_summary()"
   ]
  },
  {
   "cell_type": "code",
   "execution_count": 15,
   "metadata": {},
   "outputs": [
    {
     "name": "stdout",
     "output_type": "stream",
     "text": [
      "Trial 10 Complete [00h 14m 42s]\n",
      "val_loss: 0.13426126539707184\n",
      "\n",
      "Best val_loss So Far: 0.027121547609567642\n",
      "Total elapsed time: 01h 09m 13s\n"
     ]
    }
   ],
   "source": [
    "tuner.search(X_train, Y_train, epochs = num_epochs, validation_data=(X_test, Y_test))"
   ]
  },
  {
   "cell_type": "code",
   "execution_count": 16,
   "metadata": {},
   "outputs": [
    {
     "name": "stdout",
     "output_type": "stream",
     "text": [
      "Model: \"sequential\"\n",
      "_________________________________________________________________\n",
      " Layer (type)                Output Shape              Param #   \n",
      "=================================================================\n",
      " lstm (LSTM)                 (None, 4380, 352)         498432    \n",
      "                                                                 \n",
      " dropout (Dropout)           (None, 4380, 352)         0         \n",
      "                                                                 \n",
      " lstm_1 (LSTM)               (None, 352)               992640    \n",
      "                                                                 \n",
      " dropout_1 (Dropout)         (None, 352)               0         \n",
      "                                                                 \n",
      " dense (Dense)               (None, 1)                 353       \n",
      "                                                                 \n",
      "=================================================================\n",
      "Total params: 1491425 (5.69 MB)\n",
      "Trainable params: 1491425 (5.69 MB)\n",
      "Non-trainable params: 0 (0.00 Byte)\n",
      "_________________________________________________________________\n",
      "{'activation': 'sigmoid', 'learning_rate': 0.00011974213314597185, 'loss': 'mse', 'neurons': 352, 'dropout_1': 0.1, 'dropout_2': 0.1}\n"
     ]
    }
   ],
   "source": [
    "best_model = tuner.get_best_models(num_models = 1)[0]\n",
    "best_hyperparameters = tuner.get_best_hyperparameters(num_trials=1)[0]\n",
    "\n",
    "best_model.summary()\n",
    "print(best_hyperparameters.values)"
   ]
  }
 ],
 "metadata": {
  "kernelspec": {
   "display_name": "Python 3",
   "language": "python",
   "name": "python3"
  },
  "language_info": {
   "codemirror_mode": {
    "name": "ipython",
    "version": 3
   },
   "file_extension": ".py",
   "mimetype": "text/x-python",
   "name": "python",
   "nbconvert_exporter": "python",
   "pygments_lexer": "ipython3",
   "version": "3.11.5"
  }
 },
 "nbformat": 4,
 "nbformat_minor": 2
}
